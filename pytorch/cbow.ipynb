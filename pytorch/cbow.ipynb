{
 "cells": [
  {
   "cell_type": "code",
   "execution_count": 1,
   "metadata": {
    "collapsed": false
   },
   "outputs": [
    {
     "data": {
      "text/plain": [
       "<torch._C.Generator at 0x1002c1b88>"
      ]
     },
     "execution_count": 1,
     "metadata": {},
     "output_type": "execute_result"
    }
   ],
   "source": [
    "import torch\n",
    "import torch.nn as nn\n",
    "import torch.autograd as autograd\n",
    "import torch.nn.functional as F\n",
    "import torch.optim as optim\n",
    "\n",
    "torch.manual_seed(1)"
   ]
  },
  {
   "cell_type": "code",
   "execution_count": 2,
   "metadata": {
    "collapsed": true
   },
   "outputs": [],
   "source": [
    "CONTEXT_SIZE = 2 # 2 words to the left, 2 to the right\n",
    "EMBEDDING_DIM = 5\n",
    "\n",
    "raw_text = \"\"\"We are about to study the idea of a computational process.\n",
    "Computational processes are abstract beings that inhabit computers.\n",
    "As they evolve, processes manipulate other abstract things called data.\n",
    "The evolution of a process is directed by a pattern of rules\n",
    "called a program. People create programs to direct processes. In effect,\n",
    "we conjure the spirits of the computer with our spells.\"\"\".split()"
   ]
  },
  {
   "cell_type": "code",
   "execution_count": 3,
   "metadata": {
    "collapsed": false
   },
   "outputs": [],
   "source": [
    "vocab = set(raw_text)\n",
    "word_to_ix = {word: i for i, word in enumerate(vocab)}"
   ]
  },
  {
   "cell_type": "code",
   "execution_count": 4,
   "metadata": {
    "collapsed": true
   },
   "outputs": [],
   "source": [
    "data = [([raw_text[i-2],raw_text[i-1],raw_text[i+1],raw_text[i+2]], raw_text[i]) for i in range(2, len(raw_text) - 2)]"
   ]
  },
  {
   "cell_type": "code",
   "execution_count": 5,
   "metadata": {
    "collapsed": false
   },
   "outputs": [],
   "source": [
    "class CBOW(nn.Module):\n",
    "    def __init__(self, vocab_size, embedding_dim):\n",
    "        super(CBOW, self).__init__()\n",
    "        self.embeddings = nn.Embedding(vocab_size, embedding_dim)\n",
    "    def forward(self, inputs):\n",
    "        e = self.embeddings(inputs)\n",
    "        i = torch.mean(e, 0)\n",
    "        o = self.embeddings(autograd.Variable(torch.LongTensor(range(len(vocab)))))\n",
    "        #out = torch.mm(o, torch.t(i))\n",
    "        out = torch.mm(i, torch.t(o))\n",
    "        log_probs = F.log_softmax(out)\n",
    "        return log_probs\n",
    "        \n",
    "def make_context_vector(context, word_to_ix):\n",
    "    idxs = [word_to_ix[w] for w in context]\n",
    "    tensor = torch.LongTensor(idxs)\n",
    "    return autograd.Variable(tensor)"
   ]
  },
  {
   "cell_type": "code",
   "execution_count": 6,
   "metadata": {
    "collapsed": false
   },
   "outputs": [],
   "source": [
    "losses = []\n",
    "loss_function = nn.NLLLoss()\n",
    "model = CBOW(len(vocab), EMBEDDING_DIM)\n",
    "optimizer = optim.SGD(model.parameters(), lr=0.001)"
   ]
  },
  {
   "cell_type": "code",
   "execution_count": 9,
   "metadata": {
    "collapsed": false
   },
   "outputs": [],
   "source": [
    "for epoch in range(100):\n",
    "    total_loss = torch.Tensor([0])\n",
    "    for context, target in data:\n",
    "        context_var = make_context_vector(context, word_to_ix)\n",
    "        model.zero_grad()\n",
    "        log_probs = model(context_var)\n",
    "        loss = loss_function(log_probs, autograd.Variable(\n",
    "            torch.LongTensor([word_to_ix[target]])))\n",
    "        loss.backward()\n",
    "        optimizer.step()\n",
    "        total_loss += loss.data\n",
    "    losses.append(total_loss)"
   ]
  },
  {
   "cell_type": "code",
   "execution_count": 10,
   "metadata": {
    "collapsed": false
   },
   "outputs": [
    {
     "data": {
      "text/plain": [
       "[\n",
       "  269.9901\n",
       " [torch.FloatTensor of size 1], \n",
       "  269.6921\n",
       " [torch.FloatTensor of size 1], \n",
       "  269.3954\n",
       " [torch.FloatTensor of size 1], \n",
       "  269.1000\n",
       " [torch.FloatTensor of size 1], \n",
       "  268.8058\n",
       " [torch.FloatTensor of size 1], \n",
       "  268.5129\n",
       " [torch.FloatTensor of size 1], \n",
       "  268.2212\n",
       " [torch.FloatTensor of size 1], \n",
       "  267.9307\n",
       " [torch.FloatTensor of size 1], \n",
       "  267.6413\n",
       " [torch.FloatTensor of size 1], \n",
       "  267.3531\n",
       " [torch.FloatTensor of size 1], \n",
       "  267.0663\n",
       " [torch.FloatTensor of size 1], \n",
       "  266.7804\n",
       " [torch.FloatTensor of size 1], \n",
       "  266.4958\n",
       " [torch.FloatTensor of size 1], \n",
       "  266.2122\n",
       " [torch.FloatTensor of size 1], \n",
       "  265.9299\n",
       " [torch.FloatTensor of size 1], \n",
       "  265.6487\n",
       " [torch.FloatTensor of size 1], \n",
       "  265.3686\n",
       " [torch.FloatTensor of size 1], \n",
       "  265.0895\n",
       " [torch.FloatTensor of size 1], \n",
       "  264.8116\n",
       " [torch.FloatTensor of size 1], \n",
       "  264.5348\n",
       " [torch.FloatTensor of size 1], \n",
       "  264.2590\n",
       " [torch.FloatTensor of size 1], \n",
       "  263.9844\n",
       " [torch.FloatTensor of size 1], \n",
       "  263.7107\n",
       " [torch.FloatTensor of size 1], \n",
       "  263.4382\n",
       " [torch.FloatTensor of size 1], \n",
       "  263.1667\n",
       " [torch.FloatTensor of size 1], \n",
       "  262.8962\n",
       " [torch.FloatTensor of size 1], \n",
       "  262.6267\n",
       " [torch.FloatTensor of size 1], \n",
       "  262.3584\n",
       " [torch.FloatTensor of size 1], \n",
       "  262.0909\n",
       " [torch.FloatTensor of size 1], \n",
       "  261.8245\n",
       " [torch.FloatTensor of size 1], \n",
       "  261.5591\n",
       " [torch.FloatTensor of size 1], \n",
       "  261.2946\n",
       " [torch.FloatTensor of size 1], \n",
       "  261.0312\n",
       " [torch.FloatTensor of size 1], \n",
       "  260.7686\n",
       " [torch.FloatTensor of size 1], \n",
       "  260.5072\n",
       " [torch.FloatTensor of size 1], \n",
       "  260.2467\n",
       " [torch.FloatTensor of size 1], \n",
       "  259.9870\n",
       " [torch.FloatTensor of size 1], \n",
       "  259.7284\n",
       " [torch.FloatTensor of size 1], \n",
       "  259.4706\n",
       " [torch.FloatTensor of size 1], \n",
       "  259.2139\n",
       " [torch.FloatTensor of size 1], \n",
       "  258.9580\n",
       " [torch.FloatTensor of size 1], \n",
       "  258.7030\n",
       " [torch.FloatTensor of size 1], \n",
       "  258.4489\n",
       " [torch.FloatTensor of size 1], \n",
       "  258.1957\n",
       " [torch.FloatTensor of size 1], \n",
       "  257.9435\n",
       " [torch.FloatTensor of size 1], \n",
       "  257.6921\n",
       " [torch.FloatTensor of size 1], \n",
       "  257.4416\n",
       " [torch.FloatTensor of size 1], \n",
       "  257.1919\n",
       " [torch.FloatTensor of size 1], \n",
       "  256.9431\n",
       " [torch.FloatTensor of size 1], \n",
       "  256.6952\n",
       " [torch.FloatTensor of size 1], \n",
       "  256.4481\n",
       " [torch.FloatTensor of size 1], \n",
       "  256.2019\n",
       " [torch.FloatTensor of size 1], \n",
       "  255.9565\n",
       " [torch.FloatTensor of size 1], \n",
       "  255.7119\n",
       " [torch.FloatTensor of size 1], \n",
       "  255.4682\n",
       " [torch.FloatTensor of size 1], \n",
       "  255.2253\n",
       " [torch.FloatTensor of size 1], \n",
       "  254.9831\n",
       " [torch.FloatTensor of size 1], \n",
       "  254.7418\n",
       " [torch.FloatTensor of size 1], \n",
       "  254.5013\n",
       " [torch.FloatTensor of size 1], \n",
       "  254.2616\n",
       " [torch.FloatTensor of size 1], \n",
       "  254.0226\n",
       " [torch.FloatTensor of size 1], \n",
       "  253.7845\n",
       " [torch.FloatTensor of size 1], \n",
       "  253.5471\n",
       " [torch.FloatTensor of size 1], \n",
       "  253.3105\n",
       " [torch.FloatTensor of size 1], \n",
       "  253.0747\n",
       " [torch.FloatTensor of size 1], \n",
       "  252.8396\n",
       " [torch.FloatTensor of size 1], \n",
       "  252.6052\n",
       " [torch.FloatTensor of size 1], \n",
       "  252.3717\n",
       " [torch.FloatTensor of size 1], \n",
       "  252.1388\n",
       " [torch.FloatTensor of size 1], \n",
       "  251.9067\n",
       " [torch.FloatTensor of size 1], \n",
       "  251.6753\n",
       " [torch.FloatTensor of size 1], \n",
       "  251.4446\n",
       " [torch.FloatTensor of size 1], \n",
       "  251.2147\n",
       " [torch.FloatTensor of size 1], \n",
       "  250.9855\n",
       " [torch.FloatTensor of size 1], \n",
       "  250.7570\n",
       " [torch.FloatTensor of size 1], \n",
       "  250.5292\n",
       " [torch.FloatTensor of size 1], \n",
       "  250.3021\n",
       " [torch.FloatTensor of size 1], \n",
       "  250.0756\n",
       " [torch.FloatTensor of size 1], \n",
       "  249.8499\n",
       " [torch.FloatTensor of size 1], \n",
       "  249.6249\n",
       " [torch.FloatTensor of size 1], \n",
       "  249.4005\n",
       " [torch.FloatTensor of size 1], \n",
       "  249.1768\n",
       " [torch.FloatTensor of size 1], \n",
       "  248.9538\n",
       " [torch.FloatTensor of size 1], \n",
       "  248.7314\n",
       " [torch.FloatTensor of size 1], \n",
       "  248.5097\n",
       " [torch.FloatTensor of size 1], \n",
       "  248.2887\n",
       " [torch.FloatTensor of size 1], \n",
       "  248.0682\n",
       " [torch.FloatTensor of size 1], \n",
       "  247.8484\n",
       " [torch.FloatTensor of size 1], \n",
       "  247.6293\n",
       " [torch.FloatTensor of size 1], \n",
       "  247.4108\n",
       " [torch.FloatTensor of size 1], \n",
       "  247.1930\n",
       " [torch.FloatTensor of size 1], \n",
       "  246.9757\n",
       " [torch.FloatTensor of size 1], \n",
       "  246.7591\n",
       " [torch.FloatTensor of size 1], \n",
       "  246.5432\n",
       " [torch.FloatTensor of size 1], \n",
       "  246.3277\n",
       " [torch.FloatTensor of size 1], \n",
       "  246.1129\n",
       " [torch.FloatTensor of size 1], \n",
       "  245.8987\n",
       " [torch.FloatTensor of size 1], \n",
       "  245.6851\n",
       " [torch.FloatTensor of size 1], \n",
       "  245.4722\n",
       " [torch.FloatTensor of size 1], \n",
       "  245.2598\n",
       " [torch.FloatTensor of size 1], \n",
       "  245.0479\n",
       " [torch.FloatTensor of size 1], \n",
       "  244.8368\n",
       " [torch.FloatTensor of size 1], \n",
       "  244.6261\n",
       " [torch.FloatTensor of size 1], \n",
       "  244.4160\n",
       " [torch.FloatTensor of size 1], \n",
       "  244.2065\n",
       " [torch.FloatTensor of size 1], \n",
       "  243.9975\n",
       " [torch.FloatTensor of size 1], \n",
       "  243.7892\n",
       " [torch.FloatTensor of size 1], \n",
       "  243.5814\n",
       " [torch.FloatTensor of size 1], \n",
       "  243.3741\n",
       " [torch.FloatTensor of size 1], \n",
       "  243.1674\n",
       " [torch.FloatTensor of size 1]]"
      ]
     },
     "execution_count": 10,
     "metadata": {},
     "output_type": "execute_result"
    }
   ],
   "source": [
    "losses"
   ]
  },
  {
   "cell_type": "code",
   "execution_count": null,
   "metadata": {
    "collapsed": true
   },
   "outputs": [],
   "source": []
  }
 ],
 "metadata": {
  "kernelspec": {
   "display_name": "Python [conda root]",
   "language": "python",
   "name": "conda-root-py"
  },
  "language_info": {
   "codemirror_mode": {
    "name": "ipython",
    "version": 2
   },
   "file_extension": ".py",
   "mimetype": "text/x-python",
   "name": "python",
   "nbconvert_exporter": "python",
   "pygments_lexer": "ipython2",
   "version": "2.7.12"
  }
 },
 "nbformat": 4,
 "nbformat_minor": 0
}
