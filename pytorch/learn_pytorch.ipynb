{
 "cells": [
  {
   "cell_type": "code",
   "execution_count": 1,
   "metadata": {
    "collapsed": true
   },
   "outputs": [],
   "source": [
    "import torch"
   ]
  },
  {
   "cell_type": "code",
   "execution_count": 2,
   "metadata": {
    "collapsed": false
   },
   "outputs": [
    {
     "name": "stdout",
     "output_type": "stream",
     "text": [
      "[ 6 12 20]\n"
     ]
    }
   ],
   "source": [
    "a = torch.IntTensor([2, 3, 4])\n",
    "b = torch.IntTensor([3, 4, 5])\n",
    "m = a * b # element-wise product\n",
    "print(m.numpy())"
   ]
  },
  {
   "cell_type": "code",
   "execution_count": 3,
   "metadata": {
    "collapsed": true
   },
   "outputs": [],
   "source": [
    "from torch.autograd import Variable\n",
    "from torch import optim"
   ]
  },
  {
   "cell_type": "code",
   "execution_count": 14,
   "metadata": {
    "collapsed": true
   },
   "outputs": [],
   "source": [
    "def build_model():\n",
    "    model = torch.nn.Sequential()\n",
    "    model.add_module(\"linear\", torch.nn.Linear(1, 1, bias=False))\n",
    "    return model\n",
    "\n",
    "def train(model, loss, optimizer, x, y):\n",
    "    x = Variable(x, requires_grad=False)\n",
    "    y = Variable(y, requires_grad=False)\n",
    "    \n",
    "    # Reset gradient\n",
    "    optimizer.zero_grad()\n",
    "    \n",
    "    # Forward\n",
    "    fx = model.forward(x.view(len(x), 1))\n",
    "    output = loss.forward(fx, y)\n",
    "    \n",
    "    # Backward\n",
    "    output.backward()\n",
    "    \n",
    "    # Update parameters\n",
    "    optimizer.step()\n",
    "    \n",
    "    return output.data[0]\n",
    "\n",
    "def main():\n",
    "    torch.manual_seed(42)\n",
    "    X = torch.linspace(-1, 1, 101)\n",
    "    Y = 2 * X + torch.randn(X.size()) * 0.33\n",
    "    \n",
    "    #print(X)\n",
    "    #print(Y)\n",
    "    \n",
    "    model = build_model()\n",
    "    loss = torch.nn.MSELoss(size_average=True)\n",
    "    optimizer = optim.SGD(model.parameters(), lr=0.01, momentum=0.9)\n",
    "    batch_size = 10\n",
    "    \n",
    "    for i in range(10):\n",
    "        cost = 0\n",
    "        num_batches = len(X) / batch_size\n",
    "        for k in range(num_batches):\n",
    "            start, end = k * batch_size, (k + 1) * batch_size\n",
    "            cost += train(model, loss, optimizer, X[start: end], Y[start:end])\n",
    "        print(\"Epoch = %d, cost = %s\" % (i + 1, cost / num_batches))\n",
    "    w = model.parameters().next().data\n",
    "    print(\"w = %.2f\" % w.numpy())"
   ]
  },
  {
   "cell_type": "code",
   "execution_count": 15,
   "metadata": {
    "collapsed": false
   },
   "outputs": [
    {
     "name": "stdout",
     "output_type": "stream",
     "text": [
      "Epoch = 1, cost = 0.643887868524\n",
      "Epoch = 2, cost = 0.329525884241\n",
      "Epoch = 3, cost = 0.140714201704\n",
      "Epoch = 4, cost = 0.102696674317\n",
      "Epoch = 5, cost = 0.103245139122\n",
      "Epoch = 6, cost = 0.102273281664\n",
      "Epoch = 7, cost = 0.100117357448\n",
      "Epoch = 8, cost = 0.0993115231395\n",
      "Epoch = 9, cost = 0.0993316784501\n",
      "Epoch = 10, cost = 0.0994394280016\n",
      "w = 1.96\n"
     ]
    }
   ],
   "source": [
    "main()"
   ]
  },
  {
   "cell_type": "code",
   "execution_count": null,
   "metadata": {
    "collapsed": true
   },
   "outputs": [],
   "source": []
  }
 ],
 "metadata": {
  "anaconda-cloud": {},
  "kernelspec": {
   "display_name": "Python [conda root]",
   "language": "python",
   "name": "conda-root-py"
  },
  "language_info": {
   "codemirror_mode": {
    "name": "ipython",
    "version": 2
   },
   "file_extension": ".py",
   "mimetype": "text/x-python",
   "name": "python",
   "nbconvert_exporter": "python",
   "pygments_lexer": "ipython2",
   "version": "2.7.12"
  }
 },
 "nbformat": 4,
 "nbformat_minor": 0
}
